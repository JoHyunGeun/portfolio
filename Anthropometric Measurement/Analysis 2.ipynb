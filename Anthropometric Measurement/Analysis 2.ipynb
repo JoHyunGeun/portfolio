{
 "cells": [
  {
   "cell_type": "markdown",
   "metadata": {},
   "source": [
    "# 인체 직접측정데이터"
   ]
  },
  {
   "cell_type": "markdown",
   "metadata": {},
   "source": [
    "# 1. Loading Data"
   ]
  },
  {
   "cell_type": "code",
   "execution_count": 5,
   "metadata": {},
   "outputs": [],
   "source": [
    "import pandas as pd"
   ]
  },
  {
   "cell_type": "code",
   "execution_count": 6,
   "metadata": {},
   "outputs": [],
   "source": [
    "data3 = pd.read_excel('2015_7차_직접측정 데이터.xlsx')"
   ]
  },
  {
   "cell_type": "code",
   "execution_count": 142,
   "metadata": {},
   "outputs": [],
   "source": [
    "def name_finder(columns, text):\n",
    "    for feature in columns:\n",
    "        if text in feature:\n",
    "            return feature\n",
    "\n",
    "def finder(columns, find_list):\n",
    "    result = []\n",
    "    for feature in columns:\n",
    "        for find_num in find_list:\n",
    "            if find_num in feature:\n",
    "                result.append(feature)\n",
    "    if len(result) != len(find_list):\n",
    "        return 'ERROR!' \n",
    "    return result\n",
    "\n",
    "def make_col_list(columns, num_dict):\n",
    "    col_dict = {}\n",
    "    for part in num_dict.items():\n",
    "        result = finder(columns, part[1])\n",
    "        if result != 'ERROR!':\n",
    "            col_dict[part[0]] = result\n",
    "        else:\n",
    "            return result\n",
    "    return col_dict\n",
    "\n",
    "def to_data_frame(data, col_dict):\n",
    "    frame_dict = {}\n",
    "    for col in col_dict.items():\n",
    "        col[1].insert(0, 'ⓞ_02_성별')\n",
    "        col[1].insert(1, '①_003_키')\n",
    "        columns=[]\n",
    "        for name in col[1]:\n",
    "            columns.append(name.split('_')[2])\n",
    "        frame_dict[col[0]] = data[col[1]]\n",
    "        frame_dict[col[0]].columns = columns\n",
    "    return frame_dict\n",
    "\n",
    "def frame_with_gender(frame_dict):\n",
    "    result_dict = {}\n",
    "    for frame in frame_dict.items():\n",
    "        gender_dict = {}\n",
    "        gender_dict['남'] = frame[1][frame[1]['성별'] == '남']\n",
    "        gender_dict['여'] = frame[1][frame[1]['성별'] == '여']\n",
    "        result_dict[frame[0]] = gender_dict\n",
    "    return result_dict\n",
    "\n",
    "def dataset_split(frame_dict):\n",
    "    for items in frame_dict.items():\n",
    "        for dataset in items[1].items():\n",
    "            xy_dict = {}\n",
    "            null_removed = dataset[1].dropna()\n",
    "            X, y = null_removed[null_removed.columns[2:]], null_removed[null_removed.columns[1]]\n",
    "            xy_dict['X'], xy_dict['y'] = X, y\n",
    "            frame_dict[items[0]][dataset[0]] = xy_dict\n",
    "    return frame_dict"
   ]
  },
  {
   "cell_type": "code",
   "execution_count": 116,
   "metadata": {},
   "outputs": [],
   "source": [
    "columns = data3.columns\n",
    "num_dict = {}\n",
    "num_dict['head'] = ['004', '093', '094', '099', '100', '101', '111', '112', '113', '114', '115', '116', '117']\n",
    "num_dict['neck'] = ['006', '094', '038', '037']\n",
    "num_dict['body_top_shoulder'] = ['070', '071', '001', '002', '023', '047', '048', '049', '054', '056', '067']\n",
    "num_dict['body_top_chest'] = ['018', '019', '024', '025', '041', '039']\n",
    "num_dict['body_bottom_waist'] = ['020', '021', '026', '027', '043', '042']\n",
    "num_dict['body_bottom_stomach'] = ['022', '028', '030', '044', '045', '071']\n",
    "num_dict['leg'] = ['053', '121', '122', '123', '124', '125', '078', '079', '081']\n",
    "num_dict['foot'] = ['118', '119', '120', '127', '128', '129']\n",
    "num_dict['arm'] = ['063', '064', '065', '066', '130', '131', '084', '085']\n",
    "num_dict['hand'] = ['102', '103', '104', '105', '106', '107', '108', '110', '132']"
   ]
  },
  {
   "cell_type": "code",
   "execution_count": 117,
   "metadata": {},
   "outputs": [],
   "source": [
    "col_dict = make_col_list(columns, num_dict)\n",
    "frame_dict = to_data_frame(data3, col_dict)\n",
    "frame_dict = frame_with_gender(frame_dict)\n",
    "frame_dict['body_top_chest']['남'].drop('젖가슴아래둘레', axis=1, inplace=True)\n",
    "frame_dict = dataset_split(frame_dict)"
   ]
  },
  {
   "cell_type": "markdown",
   "metadata": {},
   "source": [
    "### NOTE\n",
    "* 젖가슴아래둘레는 여자에만 해당하므로 남자에 대한 dataframe에서는 제거해 주었다.\n",
    "* 전체 데이터에 비해 null값을 가지는 행이 100개 이하였기 때문에 따로 채워넣지 않고 전부 제거해 주었다."
   ]
  },
  {
   "cell_type": "markdown",
   "metadata": {},
   "source": [
    "# Linear Regression"
   ]
  },
  {
   "cell_type": "code",
   "execution_count": 152,
   "metadata": {},
   "outputs": [],
   "source": [
    "from sklearn.linear_model import LinearRegression\n",
    "from sklearn.metrics import mean_squared_error\n",
    "from sklearn.model_selection import cross_val_score\n",
    "import numpy as np"
   ]
  },
  {
   "cell_type": "code",
   "execution_count": 155,
   "metadata": {},
   "outputs": [],
   "source": [
    "def linear_regression_result(frame_dict):\n",
    "    lin_reg = LinearRegression()\n",
    "    result_list = []\n",
    "    for (part, gender_dict) in frame_dict.items():\n",
    "        for (gender, Xy_dict) in gender_dict.items():\n",
    "            scores = cross_val_score(lin_reg, Xy_dict['X'], Xy_dict['y'], scoring='neg_mean_squared_error', cv=10)\n",
    "            lin_rmse_scores = np.sqrt(-scores)\n",
    "            result_list.append([part, gender, lin_rmse_scores.mean()])\n",
    "    return result_list                "
   ]
  },
  {
   "cell_type": "code",
   "execution_count": 157,
   "metadata": {},
   "outputs": [],
   "source": [
    "final_result_list = linear_regression_result(frame_dict)"
   ]
  },
  {
   "cell_type": "code",
   "execution_count": 180,
   "metadata": {},
   "outputs": [
    {
     "data": {
      "text/plain": [
       "[['head', '남', 11.880583171300556],\n",
       " ['head', '여', 9.181195949641543],\n",
       " ['neck', '남', 18.288218605326048],\n",
       " ['neck', '여', 15.433385591728676],\n",
       " ['body_top_shoulder', '남', 45.77760065998323],\n",
       " ['body_top_shoulder', '여', 42.10334644289686],\n",
       " ['body_top_chest', '남', 56.85636914401857],\n",
       " ['body_top_chest', '여', 52.15933846772258],\n",
       " ['body_bottom_waist', '남', 54.095350745146995],\n",
       " ['body_bottom_waist', '여', 53.50202259687758],\n",
       " ['body_bottom_stomach', '남', 47.01293142732554],\n",
       " ['body_bottom_stomach', '여', 45.1689572636577],\n",
       " ['leg', '남', 28.401324830736257],\n",
       " ['leg', '여', 27.098990036947185],\n",
       " ['foot', '남', 44.07241779487932],\n",
       " ['foot', '여', 43.98427730736562],\n",
       " ['arm', '남', 34.73054349834513],\n",
       " ['arm', '여', 34.12618814855175],\n",
       " ['hand', '남', 45.986212053884465],\n",
       " ['hand', '여', 44.406541536658914]]"
      ]
     },
     "execution_count": 180,
     "metadata": {},
     "output_type": "execute_result"
    }
   ],
   "source": [
    "final_result_list"
   ]
  },
  {
   "cell_type": "markdown",
   "metadata": {},
   "source": [
    "# Visualizatoin"
   ]
  },
  {
   "cell_type": "code",
   "execution_count": 172,
   "metadata": {},
   "outputs": [],
   "source": [
    "result_data = pd.DataFrame(final_result_list, columns=['part', 'gender', 'RMSE'])"
   ]
  },
  {
   "cell_type": "code",
   "execution_count": 186,
   "metadata": {},
   "outputs": [
    {
     "data": {
      "image/png": "[encoded data removed]",
      "text/plain": [
       "<Figure size 640x480 with 1 Axes>"
      ]
     },
     "metadata": {},
     "output_type": "display_data"
    },
    {
     "data": {
      "text/plain": [
       "<ggplot: (163414421056)>"
      ]
     },
     "execution_count": 186,
     "metadata": {},
     "output_type": "execute_result"
    }
   ],
   "source": [
    "from plotnine import *\n",
    "\n",
    "(ggplot(result_data, aes(x='part', y='RMSE', color='gender'))\n",
    " + geom_point()\n",
    " + theme(text=element_text(family='LG PC'),\n",
    "        axis_text_x=element_text(size=10, angle = 90, vjust=1))\n",
    ")"
   ]
  },
  {
   "cell_type": "code",
   "execution_count": 188,
   "metadata": {},
   "outputs": [
    {
     "data": {
      "text/plain": [
       "Index(['눈높이', '머리수직길이', '얼굴수직길이', '눈동자사이너비', '눈구석사이너비', '눈살점', '머리둘레',\n",
       "       '귀구슬머리위길이', '눈살뒤통수길이', '머리두께', '머리너비', '얼굴너비', '아래턱사이너비'],\n",
       "      dtype='object')"
      ]
     },
     "execution_count": 188,
     "metadata": {},
     "output_type": "execute_result"
    }
   ],
   "source": [
    "frame_dict['head']['남']['X'].columns"
   ]
  },
  {
   "cell_type": "code",
   "execution_count": 189,
   "metadata": {},
   "outputs": [
    {
     "data": {
      "text/plain": [
       "Index(['어깨높이', '목둘레', '목밑둘레', '얼굴수직길이'], dtype='object')"
      ]
     },
     "execution_count": 189,
     "metadata": {},
     "output_type": "execute_result"
    }
   ],
   "source": [
    "frame_dict['neck']['남']['X'].columns"
   ]
  },
  {
   "cell_type": "markdown",
   "metadata": {},
   "source": [
    "# 결과\n",
    "\n",
    "* 인체 측정 데이터이다 보니 신체사이즈와 신장이 선형적인 관계를 보였고, 그에 따라 Linear Regression이 가장 적합한 모델이었다.\n",
    "\n",
    "* head의 RMSE가 가장 낮게 평가가 되었는데 이는 head의 columns들 중 '눈높이'와 같이 키와 비슷한 역할을 하는 측정치가 존재하기 때문인것으로 보인다.\n",
    "\n",
    "* 각 part의 범주적인 특성을 살릴 수 있는 feature들로 구성을 달리하여 학습시켜볼 필요성이 있다."
   ]
  },
  {
   "cell_type": "code",
   "execution_count": null,
   "metadata": {},
   "outputs": [],
   "source": []
  }
 ],
 "metadata": {
  "kernelspec": {
   "display_name": "Python 3.6",
   "language": "python",
   "name": "python36"
  },
  "language_info": {
   "codemirror_mode": {
    "name": "ipython",
    "version": 3
   },
   "file_extension": ".py",
   "mimetype": "text/x-python",
   "name": "python",
   "nbconvert_exporter": "python",
   "pygments_lexer": "ipython3",
   "version": "3.6.8"
  }
 },
 "nbformat": 4,
 "nbformat_minor": 2
}
