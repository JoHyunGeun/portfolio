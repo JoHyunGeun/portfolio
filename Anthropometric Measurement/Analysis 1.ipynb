{
 "cells": [
  {
   "cell_type": "markdown",
   "metadata": {},
   "source": [
    "# 인체 측정데이터 분석"
   ]
  },
  {
   "cell_type": "markdown",
   "metadata": {},
   "source": [
    "* 거동이 불편한 환자의 신장 몸무게 등을 측정해야하는 경우가 있다. 신체의 일부만으로 신장이나 몸무게를 예측할 수 있다면 이와 같은 환자에게 큰 도움이 될 것이다.\n",
    "* 신체 중에서 어떤 부위의 조합을 학습시키는 것이 신장이나 몸무게를 가장 잘 예측하는지 데이터를 기반으로 하여 분석해 보려고 한다.\n",
    "* 신체를 여러 부분으로 나누어 여러 모델에 적용시켜 본다."
   ]
  },
  {
   "cell_type": "markdown",
   "metadata": {},
   "source": [
    "# 1. Loading Data"
   ]
  },
  {
   "cell_type": "code",
   "execution_count": 1,
   "metadata": {},
   "outputs": [],
   "source": [
    "import pandas as pd\n",
    "data1_male = pd.read_excel('2004_5차_직접측정 데이터.xlsx')\n",
    "data1_female = pd.read_excel('2004_5차_직접측정 데이터.xlsx', sheet_name='여성')\n",
    "data2_male = pd.read_excel('2010_6차_직접측정 데이터.xlsx')\n",
    "data2_female = pd.read_excel('2010_6차_직접측정 데이터.xlsx', sheet_name='여성')"
   ]
  },
  {
   "cell_type": "code",
   "execution_count": 2,
   "metadata": {},
   "outputs": [],
   "source": [
    "data1 = data1_male.append(data1_female, ignore_index=True)\n",
    "data2 = data2_male.append(data2_female, ignore_index=True)\n",
    "data3 = pd.read_excel('2015_7차_직접측정 데이터.xlsx')"
   ]
  },
  {
   "cell_type": "code",
   "execution_count": 6,
   "metadata": {},
   "outputs": [],
   "source": [
    "est_hand_5 = data1[['성별', '(102)키', '(132)몸무게', '(208)가슴둘레', '(211)허리둘레', '(213)엉덩이둘레', '(218)장딴지둘레']]"
   ]
  },
  {
   "cell_type": "code",
   "execution_count": 7,
   "metadata": {},
   "outputs": [],
   "source": [
    "est_hand_6 = data2[['성별', '104:키', '510:몸무게', '208:가슴둘레', '211:허리둘레', '214:엉덩이둘레', '236:겨드랑둘레', '423:장딴지둘레', '425:발목최대둘레', '109:겨드랑높이', '111:엉덩이높이', '113:허리높이', '116:무릎높이']]\n"
   ]
  },
  {
   "cell_type": "code",
   "execution_count": 8,
   "metadata": {},
   "outputs": [],
   "source": [
    "est_hand_7 = data3[['ⓞ_02_성별', '①_003_키', '①_031_몸무게', '①_039_가슴둘레', '①_042_허리둘레', '①_045_엉덩이둘레', '①_067_겨드랑둘레', '①_123_무릎둘레', '①_125_장딴지둘레', '①_127_발목최대둘레', '①_008_겨드랑높이', '①_011_엉덩이높이', '①_013_허리높이', '①_016_무릎높이']]\n"
   ]
  },
  {
   "cell_type": "code",
   "execution_count": 9,
   "metadata": {},
   "outputs": [
    {
     "data": {
      "text/plain": [
       "Index(['성별', '(102)키', '(132)몸무게', '(208)가슴둘레', '(211)허리둘레', '(213)엉덩이둘레',\n",
       "       '(218)장딴지둘레'],\n",
       "      dtype='object')"
      ]
     },
     "execution_count": 9,
     "metadata": {},
     "output_type": "execute_result"
    }
   ],
   "source": [
    "est_hand_5.columns"
   ]
  },
  {
   "cell_type": "code",
   "execution_count": 10,
   "metadata": {},
   "outputs": [
    {
     "data": {
      "text/plain": [
       "Index(['성별', '104:키', '510:몸무게', '208:가슴둘레', '211:허리둘레', '214:엉덩이둘레',\n",
       "       '236:겨드랑둘레', '423:장딴지둘레', '425:발목최대둘레', '109:겨드랑높이', '111:엉덩이높이',\n",
       "       '113:허리높이', '116:무릎높이'],\n",
       "      dtype='object')"
      ]
     },
     "execution_count": 10,
     "metadata": {},
     "output_type": "execute_result"
    }
   ],
   "source": [
    "est_hand_6.columns"
   ]
  },
  {
   "cell_type": "code",
   "execution_count": 11,
   "metadata": {},
   "outputs": [
    {
     "data": {
      "text/plain": [
       "Index(['ⓞ_02_성별', '①_003_키', '①_031_몸무게', '①_039_가슴둘레', '①_042_허리둘레',\n",
       "       '①_045_엉덩이둘레', '①_067_겨드랑둘레', '①_123_무릎둘레', '①_125_장딴지둘레',\n",
       "       '①_127_발목최대둘레', '①_008_겨드랑높이', '①_011_엉덩이높이', '①_013_허리높이',\n",
       "       '①_016_무릎높이'],\n",
       "      dtype='object')"
      ]
     },
     "execution_count": 11,
     "metadata": {},
     "output_type": "execute_result"
    }
   ],
   "source": [
    "est_hand_7.columns"
   ]
  },
  {
   "cell_type": "markdown",
   "metadata": {},
   "source": [
    "### - Summarize 1\n",
    "> 2015년 7차 측정데이터가 가장 최신 데이터이기도 하고, 2개를 제외하고 모든 feature를 포함하고 있으므로 먼저 이 dataset을 중심으로 여러모델에 학습을 시켜본다. (Linear Regression, Random Forest, SVM)\n",
    "\n",
    "> 만약 다른 년도의 데이터를 함께 본다면 NULL값이 생기는 것을 부담하면서까지 포함 시킬 필요가 있을지 생각해 보아야 할 것 같다. 측정 단위 또한 다르다."
   ]
  },
  {
   "cell_type": "code",
   "execution_count": 97,
   "metadata": {},
   "outputs": [],
   "source": [
    "data = est_hand_7.copy()\n",
    "data.columns = ['성별', '키', '몸무게', '가슴둘레', '허리둘레', '엉덩이둘레', '겨드랑둘레', '무릎둘레', '장딴지둘레', '발목최대둘레', '겨드랑높이', '엉덩이높이', '허리높이', '무릎높이']\n",
    "dataset = data.copy()\n",
    "\n",
    "# nan값을 가진 행이 5개정도 뿐이어서 일단 삭제해 주었다.\n",
    "dataset.dropna(inplace=True)\n",
    "\n",
    "data_height = dataset[['성별', '키', '겨드랑높이', '엉덩이높이', '허리높이', '무릎높이']]\n",
    "data_weight = dataset[['성별', '몸무게', '가슴둘레', '허리둘레', '엉덩이둘레', '겨드랑둘레', '장딴지둘레']]"
   ]
  },
  {
   "cell_type": "markdown",
   "metadata": {},
   "source": [
    "# 2. Correlation\n",
    "> 남성 / 여성을 나누지 않은 전체적인 상관관계"
   ]
  },
  {
   "cell_type": "code",
   "execution_count": 98,
   "metadata": {},
   "outputs": [],
   "source": [
    "def corr(dataset, feature):\n",
    "    corr_matrix = dataset.corr()\n",
    "    return corr_matrix[feature].sort_values(ascending=False)"
   ]
  },
  {
   "cell_type": "code",
   "execution_count": 99,
   "metadata": {},
   "outputs": [
    {
     "data": {
      "text/plain": [
       "키        1.000000\n",
       "겨드랑높이    0.976460\n",
       "허리높이     0.955721\n",
       "엉덩이높이    0.910349\n",
       "무릎높이     0.860201\n",
       "Name: 키, dtype: float64"
      ]
     },
     "execution_count": 99,
     "metadata": {},
     "output_type": "execute_result"
    }
   ],
   "source": [
    "corr(data_height, '키')"
   ]
  },
  {
   "cell_type": "code",
   "execution_count": 100,
   "metadata": {},
   "outputs": [
    {
     "data": {
      "text/plain": [
       "몸무게      1.000000\n",
       "가슴둘레     0.906537\n",
       "장딴지둘레    0.865352\n",
       "엉덩이둘레    0.834552\n",
       "허리둘레     0.833738\n",
       "겨드랑둘레    0.826862\n",
       "Name: 몸무게, dtype: float64"
      ]
     },
     "execution_count": 100,
     "metadata": {},
     "output_type": "execute_result"
    }
   ],
   "source": [
    "corr(data_weight, '몸무게')"
   ]
  },
  {
   "cell_type": "markdown",
   "metadata": {},
   "source": [
    "# 3. Data Preprocessing\n",
    "> DataFrameSelector"
   ]
  },
  {
   "cell_type": "code",
   "execution_count": 101,
   "metadata": {},
   "outputs": [],
   "source": [
    "from sklearn.base import BaseEstimator, TransformerMixin\n",
    "\n",
    "class DataFrameSelector(BaseEstimator, TransformerMixin):\n",
    "    def __init__(self, h_or_w, m_or_w):\n",
    "        self.h_or_w = h_or_w\n",
    "        self.m_or_w = m_or_w\n",
    "        self.col_height = ['성별', '키', '겨드랑높이', '엉덩이높이', '허리높이', '무릎높이']\n",
    "        self.col_weight = ['성별', '몸무게', '가슴둘레', '허리둘레', '엉덩이둘레', '겨드랑둘레', '장딴지둘레']\n",
    "    def fit(self, X, y=None):\n",
    "        return self\n",
    "    def transform(self, X):\n",
    "        \n",
    "        if self.h_or_w == 'height':\n",
    "            df = X[self.col_height]\n",
    "            result = df[df['성별'] == self.m_or_w]\n",
    "\n",
    "        elif self.h_or_w == 'weight':\n",
    "            df = X[self.col_weight]\n",
    "            result = df[df['성별'] == self.m_or_w]\n",
    "          \n",
    "        else:\n",
    "            print('ERROR! check your parameters')\n",
    "            return\n",
    "        \n",
    "        result_X, result_y = result[result.columns[2:]], result[result.columns[1]]\n",
    "        return result, result_X, result_y"
   ]
  },
  {
   "cell_type": "code",
   "execution_count": 158,
   "metadata": {},
   "outputs": [],
   "source": [
    "from sklearn.preprocessing import StandardScaler\n",
    "from sklearn.preprocessing import LabelBinarizer\n",
    "\n",
    "def purpose(weight_or_height, gender):\n",
    "    data_selector = DataFrameSelector(weight_or_height, gender)\n",
    "    selected = data_selector.fit_transform(dataset)\n",
    "    full = selected[0]\n",
    "    X = selected[1]\n",
    "    y = selected[2]\n",
    "    return full, X, y\n",
    "\n",
    "data_selected = purpose('height', '남')\n",
    "std = StandardScaler()\n",
    "\n",
    "prepared_X = std.fit_transform(data_selected[1])\n",
    "prepared_y = data_selected[2]"
   ]
  },
  {
   "cell_type": "markdown",
   "metadata": {},
   "source": [
    "# 4. Linear Regression"
   ]
  },
  {
   "cell_type": "code",
   "execution_count": 159,
   "metadata": {},
   "outputs": [
    {
     "data": {
      "text/plain": [
       "LinearRegression(copy_X=True, fit_intercept=True, n_jobs=None,\n",
       "         normalize=False)"
      ]
     },
     "execution_count": 159,
     "metadata": {},
     "output_type": "execute_result"
    }
   ],
   "source": [
    "from sklearn.linear_model import LinearRegression\n",
    "\n",
    "lin_reg = LinearRegression()\n",
    "lin_reg.fit(prepared_X, prepared_y)"
   ]
  },
  {
   "cell_type": "markdown",
   "metadata": {},
   "source": [
    "> Training MSE"
   ]
  },
  {
   "cell_type": "code",
   "execution_count": 160,
   "metadata": {},
   "outputs": [
    {
     "data": {
      "text/plain": [
       "16.729137732677344"
      ]
     },
     "execution_count": 160,
     "metadata": {},
     "output_type": "execute_result"
    }
   ],
   "source": [
    "from sklearn.metrics import mean_squared_error\n",
    "import numpy as np\n",
    "\n",
    "predicted_y = lin_reg.predict(prepared_X)\n",
    "lin_mse = mean_squared_error(prepared_y, predicted_y)\n",
    "lin_rmse = np.sqrt(lin_mse)\n",
    "lin_rmse"
   ]
  },
  {
   "cell_type": "code",
   "execution_count": 161,
   "metadata": {},
   "outputs": [
    {
     "name": "stdout",
     "output_type": "stream",
     "text": [
      "실제 값:  1736.0 예측 값:  1717.7110194807065\n",
      "실제 값:  1833.0 예측 값:  1815.5753418950535\n",
      "실제 값:  1744.0 예측 값:  1725.8506688328266\n",
      "실제 값:  1751.0 예측 값:  1726.8837503774464\n",
      "실제 값:  1851.0 예측 값:  1849.3992522445355\n"
     ]
    }
   ],
   "source": [
    "some_X = prepared_X[:5]\n",
    "some_y = prepared_y[:5]\n",
    "some_predicted = lin_reg.predict(some_X)\n",
    "for some_y, some_predicted in zip(some_y, some_predicted):\n",
    "    print('실제 값: ', some_y, '예측 값: ', some_predicted)"
   ]
  },
  {
   "cell_type": "markdown",
   "metadata": {},
   "source": [
    "# 5. Cross_Validation\n",
    "> Test MSE"
   ]
  },
  {
   "cell_type": "code",
   "execution_count": 162,
   "metadata": {},
   "outputs": [],
   "source": [
    "from sklearn.model_selection import cross_val_score\n",
    "scores = cross_val_score(lin_reg, prepared_X, prepared_y, scoring='neg_mean_squared_error', cv=10)\n",
    "lin_rmse_scores = np.sqrt(-scores)"
   ]
  },
  {
   "cell_type": "code",
   "execution_count": 163,
   "metadata": {},
   "outputs": [],
   "source": [
    "def display_scores(scores):\n",
    "    print('Scores:', scores)\n",
    "    print('Mean:', scores.mean())\n",
    "    print('Standard deviation:', scores.std())"
   ]
  },
  {
   "cell_type": "code",
   "execution_count": 164,
   "metadata": {},
   "outputs": [
    {
     "name": "stdout",
     "output_type": "stream",
     "text": [
      "Scores: [17.06870819 16.70898524 14.03773381 13.89190545 16.92558124 17.59896312\n",
      " 17.82199616 17.19651789 19.30464865 18.26739122]\n",
      "Mean: 16.882243095861828\n",
      "Standard deviation: 1.6242627271532586\n"
     ]
    }
   ],
   "source": [
    "display_scores(lin_rmse_scores)"
   ]
  },
  {
   "cell_type": "code",
   "execution_count": 165,
   "metadata": {},
   "outputs": [],
   "source": [
    "from sklearn.model_selection import cross_val_predict\n",
    "\n",
    "predicted_y_c = cross_val_predict(lin_reg, prepared_X, prepared_y, cv=10)"
   ]
  },
  {
   "cell_type": "code",
   "execution_count": 166,
   "metadata": {},
   "outputs": [
    {
     "name": "stdout",
     "output_type": "stream",
     "text": [
      "실제 값:  1736.0 예측 값:  1717.2721261175186\n",
      "실제 값:  1833.0 예측 값:  1814.6294583739902\n",
      "실제 값:  1744.0 예측 값:  1725.3027292400843\n",
      "실제 값:  1751.0 예측 값:  1726.2655262843384\n",
      "실제 값:  1851.0 예측 값:  1848.5211640672549\n"
     ]
    }
   ],
   "source": [
    "count = 0\n",
    "for prepared_y, predicted_y_c in zip(prepared_y, predicted_y_c):\n",
    "    print('실제 값: ', prepared_y, '예측 값: ', predicted_y_c)\n",
    "    count += 1\n",
    "    if count == 5:\n",
    "        break"
   ]
  },
  {
   "cell_type": "markdown",
   "metadata": {},
   "source": [
    "### summarize 2\n",
    "> linear Regression의 결과 적은 비교적 적은 Test MSE를 보였다. Feature Engineering을 할 때 StandardScaler를 이용하여 정규화를 해주었는데, 하지 않았을 때와 결과가 같았다.\n",
    "\n",
    "> 다음은 여러가지 모델들에 여러가지 데이터 조합으로 그 성능을 비교해보고 결과를 시각화 해보려고 한다."
   ]
  },
  {
   "cell_type": "markdown",
   "metadata": {},
   "source": [
    "# 6. Other Models"
   ]
  },
  {
   "cell_type": "code",
   "execution_count": 169,
   "metadata": {},
   "outputs": [
    {
     "data": {
      "text/plain": [
       "[[16.88224309586183, 18.890008970126683, 59.45432079290909],\n",
       " [14.634858437874687, 16.317083909210126, 57.880794873841026],\n",
       " [2.990873800980138, 3.194005205457321, 11.856205685961706],\n",
       " [2.2288388794984284, 2.3501766757070053, 8.810407985412656]]"
      ]
     },
     "execution_count": 169,
     "metadata": {},
     "output_type": "execute_result"
    }
   ],
   "source": [
    "from sklearn.ensemble import RandomForestRegressor\n",
    "from sklearn.linear_model import LinearRegression\n",
    "from sklearn import svm\n",
    "from sklearn.model_selection import cross_val_score\n",
    "import warnings\n",
    "warnings.filterwarnings('ignore')\n",
    "\n",
    "height_man_data = purpose('height', '남')\n",
    "height_woman_data = purpose('height', '여')\n",
    "weight_man_data = purpose('weight', '남')\n",
    "weight_woman_data = purpose('weight', '여')\n",
    "\n",
    "lin_reg = LinearRegression()\n",
    "forest_reg = RandomForestRegressor()\n",
    "svm_reg = svm.SVR()\n",
    "\n",
    "data_list = [height_man_data, height_woman_data, weight_man_data, weight_woman_data]\n",
    "model_list = [lin_reg, forest_reg, svm_reg]\n",
    "\n",
    "rmse_matrix = []\n",
    "for data in data_list:\n",
    "    score_list = []\n",
    "    for model in model_list:\n",
    "        scores = cross_val_score(model, data[1], data[2], scoring='neg_mean_squared_error', cv=10)\n",
    "        rmse_score = np.sqrt(-scores).mean()\n",
    "        score_list.append(rmse_score)\n",
    "    rmse_matrix.append(score_list)\n",
    "rmse_matrix"
   ]
  },
  {
   "cell_type": "code",
   "execution_count": 186,
   "metadata": {},
   "outputs": [
    {
     "data": {
      "text/html": [
       "<div>\n",
       "<style scoped>\n",
       "    .dataframe tbody tr th:only-of-type {\n",
       "        vertical-align: middle;\n",
       "    }\n",
       "\n",
       "    .dataframe tbody tr th {\n",
       "        vertical-align: top;\n",
       "    }\n",
       "\n",
       "    .dataframe thead th {\n",
       "        text-align: right;\n",
       "    }\n",
       "</style>\n",
       "<table border=\"1\" class=\"dataframe\">\n",
       "  <thead>\n",
       "    <tr style=\"text-align: right;\">\n",
       "      <th></th>\n",
       "      <th>lin_reg</th>\n",
       "      <th>forest_reg</th>\n",
       "      <th>svm_reg</th>\n",
       "    </tr>\n",
       "  </thead>\n",
       "  <tbody>\n",
       "    <tr>\n",
       "      <th>height_man</th>\n",
       "      <td>16.882243</td>\n",
       "      <td>18.890009</td>\n",
       "      <td>59.454321</td>\n",
       "    </tr>\n",
       "    <tr>\n",
       "      <th>height_woman</th>\n",
       "      <td>14.634858</td>\n",
       "      <td>16.317084</td>\n",
       "      <td>57.880795</td>\n",
       "    </tr>\n",
       "    <tr>\n",
       "      <th>weight_man</th>\n",
       "      <td>2.990874</td>\n",
       "      <td>3.194005</td>\n",
       "      <td>11.856206</td>\n",
       "    </tr>\n",
       "    <tr>\n",
       "      <th>weight_woman</th>\n",
       "      <td>2.228839</td>\n",
       "      <td>2.350177</td>\n",
       "      <td>8.810408</td>\n",
       "    </tr>\n",
       "  </tbody>\n",
       "</table>\n",
       "</div>"
      ],
      "text/plain": [
       "                lin_reg  forest_reg    svm_reg\n",
       "height_man    16.882243   18.890009  59.454321\n",
       "height_woman  14.634858   16.317084  57.880795\n",
       "weight_man     2.990874    3.194005  11.856206\n",
       "weight_woman   2.228839    2.350177   8.810408"
      ]
     },
     "execution_count": 186,
     "metadata": {},
     "output_type": "execute_result"
    }
   ],
   "source": [
    "model_result = pd.DataFrame(rmse_matrix, columns=['lin_reg', 'forest_reg', 'svm_reg'], index=['height_man', 'height_woman', 'weight_man', 'weight_woman'])\n",
    "model_result"
   ]
  }
 ],
 "metadata": {
  "kernelspec": {
   "display_name": "Python 3",
   "language": "python",
   "name": "python3"
  },
  "language_info": {
   "codemirror_mode": {
    "name": "ipython",
    "version": 3
   },
   "file_extension": ".py",
   "mimetype": "text/x-python",
   "name": "python",
   "nbconvert_exporter": "python",
   "pygments_lexer": "ipython3",
   "version": "3.5.6"
  }
 },
 "nbformat": 4,
 "nbformat_minor": 2
}
