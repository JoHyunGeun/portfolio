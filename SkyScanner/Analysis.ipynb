{
 "cells": [
  {
   "cell_type": "markdown",
   "metadata": {},
   "source": [
    "# Sky Scanner Data Analyzing"
   ]
  },
  {
   "cell_type": "markdown",
   "metadata": {},
   "source": [
    "# Analysis 1"
   ]
  },
  {
   "cell_type": "markdown",
   "metadata": {},
   "source": [
    "### 컬럼소개\n",
    "* Departure_city 출발지  \n",
    "* Arrival_city 도착지  \n",
    "* Collect_Time 데이터 수집시점  \n",
    "* Target_Time 출발일  \n",
    "* MinPrice 가격  \n",
    "* QuoteDateTime 데이터 갱신날짜  \n",
    "\n",
    "데이터 갱신날짜와 데이터 수집시점이 다른 이유는 수집한 데이터가 실시간 갱신되는 데이터가 아니고, 가장 최근에 고객이 검색한 데이터를 캐싱해놓고 사용하기 때문이다. 갱신시점으로 데이터를 수집하면 보다 정확하긴 하지만 비어있는 날짜가 많을 것이고, 수집시점기준으로 데이터를 분석하면 정확하진 않지만 빈구석은 없을 것이다."
   ]
  },
  {
   "cell_type": "code",
   "execution_count": 1,
   "metadata": {},
   "outputs": [],
   "source": [
    "import pandas as pd\n",
    "import warnings\n",
    "from matplotlib import font_manager, rc\n",
    "import matplotlib as plt\n",
    "\n",
    "rc('font', family= 'LG PC')\n",
    "warnings.filterwarnings('ignore')\n",
    "data = pd.read_csv('hkg_sela.csv')"
   ]
  },
  {
   "cell_type": "markdown",
   "metadata": {},
   "source": [
    "### 분석요소\n",
    "데이터를 살펴본결과, 여러 도시로 향하는 루트가 있었다. 우리는 우선 HKG에서 SELA로 가는 하나의 경우부터 살펴보려고 한다. 관심 대상으로는 어떤 것들이 있을 것인지 정리해 보았다.\n",
    "\n",
    "1. 월별 Target_Time에 따라 가격변동의 패턴은 어떠한가?\n",
    "2. 요일에 따른 가격의 변동이 있는가?\n",
    "3. 수집한 날짜, 출발일, 가격에는 어떤 상관관계가 있는가?"
   ]
  },
  {
   "cell_type": "markdown",
   "metadata": {},
   "source": [
    "# Feature Engineering"
   ]
  },
  {
   "cell_type": "markdown",
   "metadata": {},
   "source": [
    "### 1. 필요없는 행을 제거, 데이터 범위 축소(HKG > SELA)"
   ]
  },
  {
   "cell_type": "code",
   "execution_count": 2,
   "metadata": {},
   "outputs": [
    {
     "data": {
      "text/plain": [
       "(3334533, 7)"
      ]
     },
     "execution_count": 2,
     "metadata": {},
     "output_type": "execute_result"
    }
   ],
   "source": [
    "data.shape"
   ]
  },
  {
   "cell_type": "code",
   "execution_count": 3,
   "metadata": {},
   "outputs": [
    {
     "data": {
      "text/plain": [
       "Index(['Unnamed: 0', 'Departure_city', 'Arrival_city', 'Collect_Time',\n",
       "       'Target_Time', 'MinPrice', 'QuoteDateTime'],\n",
       "      dtype='object')"
      ]
     },
     "execution_count": 3,
     "metadata": {},
     "output_type": "execute_result"
    }
   ],
   "source": [
    "data.columns"
   ]
  },
  {
   "cell_type": "code",
   "execution_count": 4,
   "metadata": {},
   "outputs": [],
   "source": [
    "data = data.drop(['Unnamed: 0'], axis=1)"
   ]
  },
  {
   "cell_type": "code",
   "execution_count": 5,
   "metadata": {},
   "outputs": [],
   "source": [
    "data.columns = ['출발지', '도착지', '데이터 수집시점', '출발일', '최소가격', '데이터 갱신날짜']"
   ]
  },
  {
   "cell_type": "code",
   "execution_count": 6,
   "metadata": {},
   "outputs": [],
   "source": [
    "HS_data = data[(data['출발지'] == 'HKG') & (data['도착지'] == 'SELA')]"
   ]
  },
  {
   "cell_type": "code",
   "execution_count": 7,
   "metadata": {},
   "outputs": [
    {
     "data": {
      "text/html": [
       "<div>\n",
       "<style scoped>\n",
       "    .dataframe tbody tr th:only-of-type {\n",
       "        vertical-align: middle;\n",
       "    }\n",
       "\n",
       "    .dataframe tbody tr th {\n",
       "        vertical-align: top;\n",
       "    }\n",
       "\n",
       "    .dataframe thead th {\n",
       "        text-align: right;\n",
       "    }\n",
       "</style>\n",
       "<table border=\"1\" class=\"dataframe\">\n",
       "  <thead>\n",
       "    <tr style=\"text-align: right;\">\n",
       "      <th></th>\n",
       "      <th>출발지</th>\n",
       "      <th>도착지</th>\n",
       "      <th>데이터 수집시점</th>\n",
       "      <th>출발일</th>\n",
       "      <th>최소가격</th>\n",
       "      <th>데이터 갱신날짜</th>\n",
       "    </tr>\n",
       "  </thead>\n",
       "  <tbody>\n",
       "    <tr>\n",
       "      <th>0</th>\n",
       "      <td>HKG</td>\n",
       "      <td>SELA</td>\n",
       "      <td>2017-09-28</td>\n",
       "      <td>2018-03-01</td>\n",
       "      <td>201206.0</td>\n",
       "      <td>2017-09-26T07:46:03</td>\n",
       "    </tr>\n",
       "    <tr>\n",
       "      <th>1</th>\n",
       "      <td>HKG</td>\n",
       "      <td>SELA</td>\n",
       "      <td>2017-09-28</td>\n",
       "      <td>2018-03-02</td>\n",
       "      <td>95866.0</td>\n",
       "      <td>2017-09-28T08:44:18</td>\n",
       "    </tr>\n",
       "    <tr>\n",
       "      <th>2</th>\n",
       "      <td>HKG</td>\n",
       "      <td>SELA</td>\n",
       "      <td>2017-09-28</td>\n",
       "      <td>2018-03-03</td>\n",
       "      <td>248538.0</td>\n",
       "      <td>2017-09-26T07:24:04</td>\n",
       "    </tr>\n",
       "    <tr>\n",
       "      <th>3</th>\n",
       "      <td>HKG</td>\n",
       "      <td>SELA</td>\n",
       "      <td>2017-09-28</td>\n",
       "      <td>2018-03-04</td>\n",
       "      <td>118799.0</td>\n",
       "      <td>2017-09-28T01:19:33</td>\n",
       "    </tr>\n",
       "    <tr>\n",
       "      <th>4</th>\n",
       "      <td>HKG</td>\n",
       "      <td>SELA</td>\n",
       "      <td>2017-09-28</td>\n",
       "      <td>2018-03-05</td>\n",
       "      <td>95866.0</td>\n",
       "      <td>2017-09-28T11:48:05</td>\n",
       "    </tr>\n",
       "  </tbody>\n",
       "</table>\n",
       "</div>"
      ],
      "text/plain": [
       "   출발지   도착지    데이터 수집시점         출발일      최소가격             데이터 갱신날짜\n",
       "0  HKG  SELA  2017-09-28  2018-03-01  201206.0  2017-09-26T07:46:03\n",
       "1  HKG  SELA  2017-09-28  2018-03-02   95866.0  2017-09-28T08:44:18\n",
       "2  HKG  SELA  2017-09-28  2018-03-03  248538.0  2017-09-26T07:24:04\n",
       "3  HKG  SELA  2017-09-28  2018-03-04  118799.0  2017-09-28T01:19:33\n",
       "4  HKG  SELA  2017-09-28  2018-03-05   95866.0  2017-09-28T11:48:05"
      ]
     },
     "execution_count": 7,
     "metadata": {},
     "output_type": "execute_result"
    }
   ],
   "source": [
    "HS_data.head()"
   ]
  },
  {
   "cell_type": "code",
   "execution_count": 8,
   "metadata": {},
   "outputs": [
    {
     "data": {
      "text/plain": [
       "(29666, 6)"
      ]
     },
     "execution_count": 8,
     "metadata": {},
     "output_type": "execute_result"
    }
   ],
   "source": [
    "HS_data.shape"
   ]
  },
  {
   "cell_type": "code",
   "execution_count": 9,
   "metadata": {},
   "outputs": [
    {
     "name": "stdout",
     "output_type": "stream",
     "text": [
      "<class 'pandas.core.frame.DataFrame'>\n",
      "Int64Index: 29666 entries, 0 to 3311241\n",
      "Data columns (total 6 columns):\n",
      "출발지         29666 non-null object\n",
      "도착지         29666 non-null object\n",
      "데이터 수집시점    29666 non-null object\n",
      "출발일         29666 non-null object\n",
      "최소가격        28414 non-null float64\n",
      "데이터 갱신날짜    28414 non-null object\n",
      "dtypes: float64(1), object(5)\n",
      "memory usage: 1.6+ MB\n"
     ]
    }
   ],
   "source": [
    "HS_data.info()"
   ]
  },
  {
   "cell_type": "code",
   "execution_count": 10,
   "metadata": {},
   "outputs": [
    {
     "data": {
      "text/plain": [
       "출발지            0\n",
       "도착지            0\n",
       "데이터 수집시점       0\n",
       "출발일            0\n",
       "최소가격        1252\n",
       "데이터 갱신날짜    1252\n",
       "dtype: int64"
      ]
     },
     "execution_count": 10,
     "metadata": {},
     "output_type": "execute_result"
    }
   ],
   "source": [
    "HS_data.isnull().sum()"
   ]
  },
  {
   "cell_type": "markdown",
   "metadata": {},
   "source": [
    "* 데이터를 살펴본결과(생략) 하나의 데이터 수집시점에 중복된 출발일은 없는 것 같고, 최소가격과 데이터 갱신날짜가 Null인 데이터가 1252개가 존재한다. 이에 대한 처리 방안이 필요할 것 같다."
   ]
  },
  {
   "cell_type": "markdown",
   "metadata": {},
   "source": [
    "### 2. 날짜 문자열을 datetime형식으로 바꾸고 메소드 활용하기"
   ]
  },
  {
   "cell_type": "code",
   "execution_count": 11,
   "metadata": {
    "scrolled": true
   },
   "outputs": [],
   "source": [
    "HS_data['데이터 수집시점'] = pd.to_datetime(HS_data['데이터 수집시점'])\n",
    "HS_data['출발일'] = pd.to_datetime(HS_data['출발일'])\n",
    "HS_data['데이터 갱신날짜'] = pd.to_datetime(HS_data['데이터 갱신날짜'])"
   ]
  },
  {
   "cell_type": "markdown",
   "metadata": {},
   "source": [
    "### 3. 컬럼 추가(출발월)"
   ]
  },
  {
   "cell_type": "code",
   "execution_count": 12,
   "metadata": {},
   "outputs": [],
   "source": [
    "HS_data['출발월'] = HS_data['출발일'].dt.month\n",
    "# HS_data.rename(columns={'month':'출발월'}, inplace=True)"
   ]
  },
  {
   "cell_type": "code",
   "execution_count": 13,
   "metadata": {},
   "outputs": [
    {
     "data": {
      "text/html": [
       "<div>\n",
       "<style scoped>\n",
       "    .dataframe tbody tr th:only-of-type {\n",
       "        vertical-align: middle;\n",
       "    }\n",
       "\n",
       "    .dataframe tbody tr th {\n",
       "        vertical-align: top;\n",
       "    }\n",
       "\n",
       "    .dataframe thead th {\n",
       "        text-align: right;\n",
       "    }\n",
       "</style>\n",
       "<table border=\"1\" class=\"dataframe\">\n",
       "  <thead>\n",
       "    <tr style=\"text-align: right;\">\n",
       "      <th></th>\n",
       "      <th>출발지</th>\n",
       "      <th>도착지</th>\n",
       "      <th>데이터 수집시점</th>\n",
       "      <th>출발일</th>\n",
       "      <th>최소가격</th>\n",
       "      <th>데이터 갱신날짜</th>\n",
       "      <th>출발월</th>\n",
       "    </tr>\n",
       "  </thead>\n",
       "  <tbody>\n",
       "    <tr>\n",
       "      <th>0</th>\n",
       "      <td>HKG</td>\n",
       "      <td>SELA</td>\n",
       "      <td>2017-09-28</td>\n",
       "      <td>2018-03-01</td>\n",
       "      <td>201206.0</td>\n",
       "      <td>2017-09-26 07:46:03</td>\n",
       "      <td>3</td>\n",
       "    </tr>\n",
       "    <tr>\n",
       "      <th>1</th>\n",
       "      <td>HKG</td>\n",
       "      <td>SELA</td>\n",
       "      <td>2017-09-28</td>\n",
       "      <td>2018-03-02</td>\n",
       "      <td>95866.0</td>\n",
       "      <td>2017-09-28 08:44:18</td>\n",
       "      <td>3</td>\n",
       "    </tr>\n",
       "    <tr>\n",
       "      <th>2</th>\n",
       "      <td>HKG</td>\n",
       "      <td>SELA</td>\n",
       "      <td>2017-09-28</td>\n",
       "      <td>2018-03-03</td>\n",
       "      <td>248538.0</td>\n",
       "      <td>2017-09-26 07:24:04</td>\n",
       "      <td>3</td>\n",
       "    </tr>\n",
       "    <tr>\n",
       "      <th>3</th>\n",
       "      <td>HKG</td>\n",
       "      <td>SELA</td>\n",
       "      <td>2017-09-28</td>\n",
       "      <td>2018-03-04</td>\n",
       "      <td>118799.0</td>\n",
       "      <td>2017-09-28 01:19:33</td>\n",
       "      <td>3</td>\n",
       "    </tr>\n",
       "    <tr>\n",
       "      <th>4</th>\n",
       "      <td>HKG</td>\n",
       "      <td>SELA</td>\n",
       "      <td>2017-09-28</td>\n",
       "      <td>2018-03-05</td>\n",
       "      <td>95866.0</td>\n",
       "      <td>2017-09-28 11:48:05</td>\n",
       "      <td>3</td>\n",
       "    </tr>\n",
       "  </tbody>\n",
       "</table>\n",
       "</div>"
      ],
      "text/plain": [
       "   출발지   도착지   데이터 수집시점        출발일      최소가격            데이터 갱신날짜  출발월\n",
       "0  HKG  SELA 2017-09-28 2018-03-01  201206.0 2017-09-26 07:46:03    3\n",
       "1  HKG  SELA 2017-09-28 2018-03-02   95866.0 2017-09-28 08:44:18    3\n",
       "2  HKG  SELA 2017-09-28 2018-03-03  248538.0 2017-09-26 07:24:04    3\n",
       "3  HKG  SELA 2017-09-28 2018-03-04  118799.0 2017-09-28 01:19:33    3\n",
       "4  HKG  SELA 2017-09-28 2018-03-05   95866.0 2017-09-28 11:48:05    3"
      ]
     },
     "execution_count": 13,
     "metadata": {},
     "output_type": "execute_result"
    }
   ],
   "source": [
    "HS_data.head()"
   ]
  },
  {
   "cell_type": "markdown",
   "metadata": {},
   "source": [
    "### 4. 필요없는 행을 제거"
   ]
  },
  {
   "cell_type": "markdown",
   "metadata": {},
   "source": [
    "* 데이터 수집시점보다 출발일이 빠르면 가격데이터는 null값을 가지는 것을 확인 하였다.  \n",
    "* 예측을 해야하는 시점에서 이러한 데이터가 쓸모가 없을 것 같아 삭제하였다.\n",
    "* 삭제하고 난 후에도 Null값이 126개가 남아있는 것을 볼 수 있다."
   ]
  },
  {
   "cell_type": "code",
   "execution_count": 14,
   "metadata": {
    "scrolled": true
   },
   "outputs": [
    {
     "data": {
      "text/plain": [
       "(1126,)"
      ]
     },
     "execution_count": 14,
     "metadata": {},
     "output_type": "execute_result"
    }
   ],
   "source": [
    "HS_data[(HS_data['데이터 수집시점']) > (HS_data['출발일'])]['최소가격'].shape"
   ]
  },
  {
   "cell_type": "code",
   "execution_count": 15,
   "metadata": {},
   "outputs": [
    {
     "data": {
      "text/plain": [
       "출발지           0\n",
       "도착지           0\n",
       "데이터 수집시점      0\n",
       "출발일           0\n",
       "최소가격        126\n",
       "데이터 갱신날짜    126\n",
       "출발월           0\n",
       "dtype: int64"
      ]
     },
     "execution_count": 15,
     "metadata": {},
     "output_type": "execute_result"
    }
   ],
   "source": [
    "HS_data = HS_data[HS_data['데이터 수집시점'] <= HS_data['출발일']]\n",
    "HS_data.isnull().sum()"
   ]
  },
  {
   "cell_type": "markdown",
   "metadata": {},
   "source": [
    "### 5. 컬럼 추가 - 출발요일\n",
    "* monday - 0 sunday - 6"
   ]
  },
  {
   "cell_type": "code",
   "execution_count": 16,
   "metadata": {
    "scrolled": true
   },
   "outputs": [
    {
     "data": {
      "text/html": [
       "<div>\n",
       "<style scoped>\n",
       "    .dataframe tbody tr th:only-of-type {\n",
       "        vertical-align: middle;\n",
       "    }\n",
       "\n",
       "    .dataframe tbody tr th {\n",
       "        vertical-align: top;\n",
       "    }\n",
       "\n",
       "    .dataframe thead th {\n",
       "        text-align: right;\n",
       "    }\n",
       "</style>\n",
       "<table border=\"1\" class=\"dataframe\">\n",
       "  <thead>\n",
       "    <tr style=\"text-align: right;\">\n",
       "      <th></th>\n",
       "      <th>출발지</th>\n",
       "      <th>도착지</th>\n",
       "      <th>데이터 수집시점</th>\n",
       "      <th>출발일</th>\n",
       "      <th>최소가격</th>\n",
       "      <th>데이터 갱신날짜</th>\n",
       "      <th>출발월</th>\n",
       "      <th>출발요일</th>\n",
       "    </tr>\n",
       "  </thead>\n",
       "  <tbody>\n",
       "    <tr>\n",
       "      <th>0</th>\n",
       "      <td>HKG</td>\n",
       "      <td>SELA</td>\n",
       "      <td>2017-09-28</td>\n",
       "      <td>2018-03-01</td>\n",
       "      <td>201206.0</td>\n",
       "      <td>2017-09-26 07:46:03</td>\n",
       "      <td>3</td>\n",
       "      <td>3</td>\n",
       "    </tr>\n",
       "    <tr>\n",
       "      <th>1</th>\n",
       "      <td>HKG</td>\n",
       "      <td>SELA</td>\n",
       "      <td>2017-09-28</td>\n",
       "      <td>2018-03-02</td>\n",
       "      <td>95866.0</td>\n",
       "      <td>2017-09-28 08:44:18</td>\n",
       "      <td>3</td>\n",
       "      <td>4</td>\n",
       "    </tr>\n",
       "    <tr>\n",
       "      <th>2</th>\n",
       "      <td>HKG</td>\n",
       "      <td>SELA</td>\n",
       "      <td>2017-09-28</td>\n",
       "      <td>2018-03-03</td>\n",
       "      <td>248538.0</td>\n",
       "      <td>2017-09-26 07:24:04</td>\n",
       "      <td>3</td>\n",
       "      <td>5</td>\n",
       "    </tr>\n",
       "    <tr>\n",
       "      <th>3</th>\n",
       "      <td>HKG</td>\n",
       "      <td>SELA</td>\n",
       "      <td>2017-09-28</td>\n",
       "      <td>2018-03-04</td>\n",
       "      <td>118799.0</td>\n",
       "      <td>2017-09-28 01:19:33</td>\n",
       "      <td>3</td>\n",
       "      <td>6</td>\n",
       "    </tr>\n",
       "    <tr>\n",
       "      <th>4</th>\n",
       "      <td>HKG</td>\n",
       "      <td>SELA</td>\n",
       "      <td>2017-09-28</td>\n",
       "      <td>2018-03-05</td>\n",
       "      <td>95866.0</td>\n",
       "      <td>2017-09-28 11:48:05</td>\n",
       "      <td>3</td>\n",
       "      <td>0</td>\n",
       "    </tr>\n",
       "  </tbody>\n",
       "</table>\n",
       "</div>"
      ],
      "text/plain": [
       "   출발지   도착지   데이터 수집시점        출발일      최소가격            데이터 갱신날짜  출발월  출발요일\n",
       "0  HKG  SELA 2017-09-28 2018-03-01  201206.0 2017-09-26 07:46:03    3     3\n",
       "1  HKG  SELA 2017-09-28 2018-03-02   95866.0 2017-09-28 08:44:18    3     4\n",
       "2  HKG  SELA 2017-09-28 2018-03-03  248538.0 2017-09-26 07:24:04    3     5\n",
       "3  HKG  SELA 2017-09-28 2018-03-04  118799.0 2017-09-28 01:19:33    3     6\n",
       "4  HKG  SELA 2017-09-28 2018-03-05   95866.0 2017-09-28 11:48:05    3     0"
      ]
     },
     "execution_count": 16,
     "metadata": {},
     "output_type": "execute_result"
    }
   ],
   "source": [
    "HS_data['출발요일'] = HS_data['출발일'].dt.dayofweek\n",
    "HS_data.head(5)"
   ]
  },
  {
   "cell_type": "markdown",
   "metadata": {},
   "source": [
    "### 6. 데이터 수집시점 컬럼 수정과 데이터 갱신날짜열 삭제"
   ]
  },
  {
   "cell_type": "markdown",
   "metadata": {},
   "source": [
    "* 데이터 갱신날짜가 있는경우 데이터 수집시점보다 데이터 갱신날짜를 쓰는 것이 좀더 정확한 예측을 할 수 있다.\n",
    "* 데이터 수집시점을 데이터 갱신날짜 열로 대체하되, null값이면 그대로 쓴다. "
   ]
  },
  {
   "cell_type": "code",
   "execution_count": 17,
   "metadata": {},
   "outputs": [],
   "source": [
    "import numpy as np\n",
    "HS_data['데이터 갱신날짜'] = np.where(pd.notnull(HS_data['데이터 갱신날짜']) == True, HS_data['데이터 갱신날짜'], HS_data['데이터 수집시점'])"
   ]
  },
  {
   "cell_type": "code",
   "execution_count": 18,
   "metadata": {
    "scrolled": true
   },
   "outputs": [
    {
     "data": {
      "text/plain": [
       "0"
      ]
     },
     "execution_count": 18,
     "metadata": {},
     "output_type": "execute_result"
    }
   ],
   "source": [
    "HS_data['데이터 갱신날짜'].isnull().sum()"
   ]
  },
  {
   "cell_type": "code",
   "execution_count": 19,
   "metadata": {},
   "outputs": [],
   "source": [
    "HS_data['데이터 수집시점'] = HS_data['데이터 갱신날짜']"
   ]
  },
  {
   "cell_type": "code",
   "execution_count": 20,
   "metadata": {},
   "outputs": [],
   "source": [
    "HS_data.drop('데이터 갱신날짜', axis=1, inplace=True)"
   ]
  },
  {
   "cell_type": "code",
   "execution_count": 21,
   "metadata": {},
   "outputs": [
    {
     "data": {
      "text/html": [
       "<div>\n",
       "<style scoped>\n",
       "    .dataframe tbody tr th:only-of-type {\n",
       "        vertical-align: middle;\n",
       "    }\n",
       "\n",
       "    .dataframe tbody tr th {\n",
       "        vertical-align: top;\n",
       "    }\n",
       "\n",
       "    .dataframe thead th {\n",
       "        text-align: right;\n",
       "    }\n",
       "</style>\n",
       "<table border=\"1\" class=\"dataframe\">\n",
       "  <thead>\n",
       "    <tr style=\"text-align: right;\">\n",
       "      <th></th>\n",
       "      <th>출발지</th>\n",
       "      <th>도착지</th>\n",
       "      <th>데이터 수집시점</th>\n",
       "      <th>출발일</th>\n",
       "      <th>최소가격</th>\n",
       "      <th>출발월</th>\n",
       "      <th>출발요일</th>\n",
       "    </tr>\n",
       "  </thead>\n",
       "  <tbody>\n",
       "    <tr>\n",
       "      <th>0</th>\n",
       "      <td>HKG</td>\n",
       "      <td>SELA</td>\n",
       "      <td>2017-09-26 07:46:03</td>\n",
       "      <td>2018-03-01</td>\n",
       "      <td>201206.0</td>\n",
       "      <td>3</td>\n",
       "      <td>3</td>\n",
       "    </tr>\n",
       "    <tr>\n",
       "      <th>1</th>\n",
       "      <td>HKG</td>\n",
       "      <td>SELA</td>\n",
       "      <td>2017-09-28 08:44:18</td>\n",
       "      <td>2018-03-02</td>\n",
       "      <td>95866.0</td>\n",
       "      <td>3</td>\n",
       "      <td>4</td>\n",
       "    </tr>\n",
       "    <tr>\n",
       "      <th>2</th>\n",
       "      <td>HKG</td>\n",
       "      <td>SELA</td>\n",
       "      <td>2017-09-26 07:24:04</td>\n",
       "      <td>2018-03-03</td>\n",
       "      <td>248538.0</td>\n",
       "      <td>3</td>\n",
       "      <td>5</td>\n",
       "    </tr>\n",
       "    <tr>\n",
       "      <th>3</th>\n",
       "      <td>HKG</td>\n",
       "      <td>SELA</td>\n",
       "      <td>2017-09-28 01:19:33</td>\n",
       "      <td>2018-03-04</td>\n",
       "      <td>118799.0</td>\n",
       "      <td>3</td>\n",
       "      <td>6</td>\n",
       "    </tr>\n",
       "    <tr>\n",
       "      <th>4</th>\n",
       "      <td>HKG</td>\n",
       "      <td>SELA</td>\n",
       "      <td>2017-09-28 11:48:05</td>\n",
       "      <td>2018-03-05</td>\n",
       "      <td>95866.0</td>\n",
       "      <td>3</td>\n",
       "      <td>0</td>\n",
       "    </tr>\n",
       "  </tbody>\n",
       "</table>\n",
       "</div>"
      ],
      "text/plain": [
       "   출발지   도착지            데이터 수집시점        출발일      최소가격  출발월  출발요일\n",
       "0  HKG  SELA 2017-09-26 07:46:03 2018-03-01  201206.0    3     3\n",
       "1  HKG  SELA 2017-09-28 08:44:18 2018-03-02   95866.0    3     4\n",
       "2  HKG  SELA 2017-09-26 07:24:04 2018-03-03  248538.0    3     5\n",
       "3  HKG  SELA 2017-09-28 01:19:33 2018-03-04  118799.0    3     6\n",
       "4  HKG  SELA 2017-09-28 11:48:05 2018-03-05   95866.0    3     0"
      ]
     },
     "execution_count": 21,
     "metadata": {},
     "output_type": "execute_result"
    }
   ],
   "source": [
    "HS_data.head()"
   ]
  },
  {
   "cell_type": "markdown",
   "metadata": {},
   "source": [
    "### 7. 컬럼 추가 - 날짜차이"
   ]
  },
  {
   "cell_type": "code",
   "execution_count": 22,
   "metadata": {},
   "outputs": [
    {
     "data": {
      "text/html": [
       "<div>\n",
       "<style scoped>\n",
       "    .dataframe tbody tr th:only-of-type {\n",
       "        vertical-align: middle;\n",
       "    }\n",
       "\n",
       "    .dataframe tbody tr th {\n",
       "        vertical-align: top;\n",
       "    }\n",
       "\n",
       "    .dataframe thead th {\n",
       "        text-align: right;\n",
       "    }\n",
       "</style>\n",
       "<table border=\"1\" class=\"dataframe\">\n",
       "  <thead>\n",
       "    <tr style=\"text-align: right;\">\n",
       "      <th></th>\n",
       "      <th>출발지</th>\n",
       "      <th>도착지</th>\n",
       "      <th>데이터 수집시점</th>\n",
       "      <th>출발일</th>\n",
       "      <th>최소가격</th>\n",
       "      <th>출발월</th>\n",
       "      <th>출발요일</th>\n",
       "      <th>날짜차이</th>\n",
       "    </tr>\n",
       "  </thead>\n",
       "  <tbody>\n",
       "    <tr>\n",
       "      <th>0</th>\n",
       "      <td>HKG</td>\n",
       "      <td>SELA</td>\n",
       "      <td>2017-09-26 07:46:03</td>\n",
       "      <td>2018-03-01</td>\n",
       "      <td>201206.0</td>\n",
       "      <td>3</td>\n",
       "      <td>3</td>\n",
       "      <td>155 days 16:13:57</td>\n",
       "    </tr>\n",
       "    <tr>\n",
       "      <th>1</th>\n",
       "      <td>HKG</td>\n",
       "      <td>SELA</td>\n",
       "      <td>2017-09-28 08:44:18</td>\n",
       "      <td>2018-03-02</td>\n",
       "      <td>95866.0</td>\n",
       "      <td>3</td>\n",
       "      <td>4</td>\n",
       "      <td>154 days 15:15:42</td>\n",
       "    </tr>\n",
       "    <tr>\n",
       "      <th>2</th>\n",
       "      <td>HKG</td>\n",
       "      <td>SELA</td>\n",
       "      <td>2017-09-26 07:24:04</td>\n",
       "      <td>2018-03-03</td>\n",
       "      <td>248538.0</td>\n",
       "      <td>3</td>\n",
       "      <td>5</td>\n",
       "      <td>157 days 16:35:56</td>\n",
       "    </tr>\n",
       "    <tr>\n",
       "      <th>3</th>\n",
       "      <td>HKG</td>\n",
       "      <td>SELA</td>\n",
       "      <td>2017-09-28 01:19:33</td>\n",
       "      <td>2018-03-04</td>\n",
       "      <td>118799.0</td>\n",
       "      <td>3</td>\n",
       "      <td>6</td>\n",
       "      <td>156 days 22:40:27</td>\n",
       "    </tr>\n",
       "    <tr>\n",
       "      <th>4</th>\n",
       "      <td>HKG</td>\n",
       "      <td>SELA</td>\n",
       "      <td>2017-09-28 11:48:05</td>\n",
       "      <td>2018-03-05</td>\n",
       "      <td>95866.0</td>\n",
       "      <td>3</td>\n",
       "      <td>0</td>\n",
       "      <td>157 days 12:11:55</td>\n",
       "    </tr>\n",
       "  </tbody>\n",
       "</table>\n",
       "</div>"
      ],
      "text/plain": [
       "   출발지   도착지            데이터 수집시점        출발일      최소가격  출발월  출발요일  \\\n",
       "0  HKG  SELA 2017-09-26 07:46:03 2018-03-01  201206.0    3     3   \n",
       "1  HKG  SELA 2017-09-28 08:44:18 2018-03-02   95866.0    3     4   \n",
       "2  HKG  SELA 2017-09-26 07:24:04 2018-03-03  248538.0    3     5   \n",
       "3  HKG  SELA 2017-09-28 01:19:33 2018-03-04  118799.0    3     6   \n",
       "4  HKG  SELA 2017-09-28 11:48:05 2018-03-05   95866.0    3     0   \n",
       "\n",
       "               날짜차이  \n",
       "0 155 days 16:13:57  \n",
       "1 154 days 15:15:42  \n",
       "2 157 days 16:35:56  \n",
       "3 156 days 22:40:27  \n",
       "4 157 days 12:11:55  "
      ]
     },
     "execution_count": 22,
     "metadata": {},
     "output_type": "execute_result"
    }
   ],
   "source": [
    "HS_data['날짜차이'] = HS_data['출발일'] - HS_data['데이터 수집시점']\n",
    "HS_data.head(5)"
   ]
  },
  {
   "cell_type": "code",
   "execution_count": 23,
   "metadata": {},
   "outputs": [],
   "source": [
    "HS_data['날짜차이'] = HS_data['날짜차이'].dt.days"
   ]
  },
  {
   "cell_type": "code",
   "execution_count": 24,
   "metadata": {
    "scrolled": true
   },
   "outputs": [
    {
     "data": {
      "text/html": [
       "<div>\n",
       "<style scoped>\n",
       "    .dataframe tbody tr th:only-of-type {\n",
       "        vertical-align: middle;\n",
       "    }\n",
       "\n",
       "    .dataframe tbody tr th {\n",
       "        vertical-align: top;\n",
       "    }\n",
       "\n",
       "    .dataframe thead th {\n",
       "        text-align: right;\n",
       "    }\n",
       "</style>\n",
       "<table border=\"1\" class=\"dataframe\">\n",
       "  <thead>\n",
       "    <tr style=\"text-align: right;\">\n",
       "      <th></th>\n",
       "      <th>출발지</th>\n",
       "      <th>도착지</th>\n",
       "      <th>데이터 수집시점</th>\n",
       "      <th>출발일</th>\n",
       "      <th>최소가격</th>\n",
       "      <th>출발월</th>\n",
       "      <th>출발요일</th>\n",
       "      <th>날짜차이</th>\n",
       "    </tr>\n",
       "  </thead>\n",
       "  <tbody>\n",
       "    <tr>\n",
       "      <th>0</th>\n",
       "      <td>HKG</td>\n",
       "      <td>SELA</td>\n",
       "      <td>2017-09-26 07:46:03</td>\n",
       "      <td>2018-03-01</td>\n",
       "      <td>201206.0</td>\n",
       "      <td>3</td>\n",
       "      <td>3</td>\n",
       "      <td>155</td>\n",
       "    </tr>\n",
       "    <tr>\n",
       "      <th>1</th>\n",
       "      <td>HKG</td>\n",
       "      <td>SELA</td>\n",
       "      <td>2017-09-28 08:44:18</td>\n",
       "      <td>2018-03-02</td>\n",
       "      <td>95866.0</td>\n",
       "      <td>3</td>\n",
       "      <td>4</td>\n",
       "      <td>154</td>\n",
       "    </tr>\n",
       "    <tr>\n",
       "      <th>2</th>\n",
       "      <td>HKG</td>\n",
       "      <td>SELA</td>\n",
       "      <td>2017-09-26 07:24:04</td>\n",
       "      <td>2018-03-03</td>\n",
       "      <td>248538.0</td>\n",
       "      <td>3</td>\n",
       "      <td>5</td>\n",
       "      <td>157</td>\n",
       "    </tr>\n",
       "    <tr>\n",
       "      <th>3</th>\n",
       "      <td>HKG</td>\n",
       "      <td>SELA</td>\n",
       "      <td>2017-09-28 01:19:33</td>\n",
       "      <td>2018-03-04</td>\n",
       "      <td>118799.0</td>\n",
       "      <td>3</td>\n",
       "      <td>6</td>\n",
       "      <td>156</td>\n",
       "    </tr>\n",
       "    <tr>\n",
       "      <th>4</th>\n",
       "      <td>HKG</td>\n",
       "      <td>SELA</td>\n",
       "      <td>2017-09-28 11:48:05</td>\n",
       "      <td>2018-03-05</td>\n",
       "      <td>95866.0</td>\n",
       "      <td>3</td>\n",
       "      <td>0</td>\n",
       "      <td>157</td>\n",
       "    </tr>\n",
       "  </tbody>\n",
       "</table>\n",
       "</div>"
      ],
      "text/plain": [
       "   출발지   도착지            데이터 수집시점        출발일      최소가격  출발월  출발요일  날짜차이\n",
       "0  HKG  SELA 2017-09-26 07:46:03 2018-03-01  201206.0    3     3   155\n",
       "1  HKG  SELA 2017-09-28 08:44:18 2018-03-02   95866.0    3     4   154\n",
       "2  HKG  SELA 2017-09-26 07:24:04 2018-03-03  248538.0    3     5   157\n",
       "3  HKG  SELA 2017-09-28 01:19:33 2018-03-04  118799.0    3     6   156\n",
       "4  HKG  SELA 2017-09-28 11:48:05 2018-03-05   95866.0    3     0   157"
      ]
     },
     "execution_count": 24,
     "metadata": {},
     "output_type": "execute_result"
    }
   ],
   "source": [
    "HS_data.head(5)"
   ]
  },
  {
   "cell_type": "code",
   "execution_count": 25,
   "metadata": {},
   "outputs": [
    {
     "name": "stdout",
     "output_type": "stream",
     "text": [
      "<class 'pandas.core.frame.DataFrame'>\n",
      "Int64Index: 28540 entries, 0 to 3311241\n",
      "Data columns (total 8 columns):\n",
      "출발지         28540 non-null object\n",
      "도착지         28540 non-null object\n",
      "데이터 수집시점    28540 non-null datetime64[ns]\n",
      "출발일         28540 non-null datetime64[ns]\n",
      "최소가격        28414 non-null float64\n",
      "출발월         28540 non-null int64\n",
      "출발요일        28540 non-null int64\n",
      "날짜차이        28540 non-null int64\n",
      "dtypes: datetime64[ns](2), float64(1), int64(3), object(2)\n",
      "memory usage: 2.0+ MB\n"
     ]
    }
   ],
   "source": [
    "HS_data.info()"
   ]
  },
  {
   "cell_type": "markdown",
   "metadata": {},
   "source": [
    "### 8. 최소가격의 Null값 채우기\n",
    "* Null값은 해당 값이 있는 열의 출발일에 해당하는 최소가격 중앙값으로 채운다."
   ]
  },
  {
   "cell_type": "code",
   "execution_count": 26,
   "metadata": {},
   "outputs": [],
   "source": [
    "HS_data['최소가격'].fillna(HS_data.groupby('출발일')['최소가격'].transform('median'), inplace=True)"
   ]
  },
  {
   "cell_type": "code",
   "execution_count": 27,
   "metadata": {},
   "outputs": [
    {
     "data": {
      "text/plain": [
       "2"
      ]
     },
     "execution_count": 27,
     "metadata": {},
     "output_type": "execute_result"
    }
   ],
   "source": [
    "HS_data['최소가격'].isnull().sum()"
   ]
  },
  {
   "cell_type": "markdown",
   "metadata": {},
   "source": [
    "* 해당 Target_Time에 대한 데이터가 하나 뿐이어서 평균값이 존재하지 않는 두가지 에 대하여 전체가격의 중앙값을 적용\n",
    "* 그 결과 모든 Null값이 사라졌다."
   ]
  },
  {
   "cell_type": "code",
   "execution_count": 28,
   "metadata": {},
   "outputs": [],
   "source": [
    "HS_data['최소가격'].fillna(HS_data['최소가격'].median(), inplace=True)"
   ]
  },
  {
   "cell_type": "code",
   "execution_count": 29,
   "metadata": {
    "scrolled": true
   },
   "outputs": [
    {
     "name": "stdout",
     "output_type": "stream",
     "text": [
      "<class 'pandas.core.frame.DataFrame'>\n",
      "Int64Index: 28540 entries, 0 to 3311241\n",
      "Data columns (total 8 columns):\n",
      "출발지         28540 non-null object\n",
      "도착지         28540 non-null object\n",
      "데이터 수집시점    28540 non-null datetime64[ns]\n",
      "출발일         28540 non-null datetime64[ns]\n",
      "최소가격        28540 non-null float64\n",
      "출발월         28540 non-null int64\n",
      "출발요일        28540 non-null int64\n",
      "날짜차이        28540 non-null int64\n",
      "dtypes: datetime64[ns](2), float64(1), int64(3), object(2)\n",
      "memory usage: 2.0+ MB\n"
     ]
    }
   ],
   "source": [
    "HS_data.info()"
   ]
  },
  {
   "cell_type": "markdown",
   "metadata": {},
   "source": [
    "### Note"
   ]
  },
  {
   "cell_type": "markdown",
   "metadata": {},
   "source": [
    "* 요일별 그래프에서 왜 전체 요일이 나오지 않는가?\n",
    "* 예측을 정확하게 하려면 어떤 Feature Engineering이 필요할까?\n",
    "* 예측을 하기위한(ex. up/down) 컬럼이 없는데 이것은 만들어 줘야 하는 것인가?\n",
    "* 날짜의 차이 외에 어떤 부분이 있을까?\n",
    "* 좀더 정확한 시각화를 위해 그래프의 MinPrice범위를 통일할 필요가 있다.\n",
    "* 이상치를 제거해줄 필요가 있을 것 같다."
   ]
  },
  {
   "cell_type": "markdown",
   "metadata": {},
   "source": [
    "# Day2 \n",
    "Focus on Visualization"
   ]
  },
  {
   "cell_type": "markdown",
   "metadata": {},
   "source": [
    "* 날짜별 그래프가 자주 쓰일 것이다.\n",
    "* 데이터 수집시점에 좀더 초점을 맞추어서 시각화를 해보는 것이 좋다.\n",
    "* x축을 출발 몇 일전(날짜차이)으로 해서 여러 날짜에 대한 그래프가 그려질 수 있도록 한다. 몇일 간의 데이터를 입력시킬 수 있도록.\n",
    "* 파라미터 2개의 함수 생성 데이터프레임과 검색 날짜를 인수로 받는다."
   ]
  },
  {
   "cell_type": "code",
   "execution_count": 30,
   "metadata": {},
   "outputs": [],
   "source": [
    "import matplotlib.pyplot as plt\n",
    "import seaborn as sns\n",
    "from matplotlib import font_manager, rc\n",
    "\n",
    "%matplotlib inline\n",
    "sns.set()"
   ]
  },
  {
   "cell_type": "code",
   "execution_count": 31,
   "metadata": {},
   "outputs": [],
   "source": [
    "result = pd.DataFrame(HS_data[HS_data['날짜차이'] <= 30]['출발일'].value_counts()).reset_index()\n",
    "result.columns=['출발일', '데이터 수']\n"
   ]
  },
  {
   "cell_type": "code",
   "execution_count": 32,
   "metadata": {},
   "outputs": [],
   "source": [
    "def cost_variation(df, find_date, date_range=None):\n",
    "    rc('font', family= 'LG PC')\n",
    "    if date_range == None:\n",
    "        base = df[(df['출발일'] == find_date)]\n",
    "    else:\n",
    "        base = df[(df['출발일'] == find_date) & (df['날짜차이'] <= date_range)]\n",
    "    if base.size == 0:\n",
    "        print(find_date, '에 해당하는 데이터가 없습니다.')\n",
    "        print(date_range, '일 전까지의 데이터가 존재하는 출발일은 다음과 같습니다.')\n",
    "        result = pd.DataFrame(df[df['날짜차이'] <= date_range]['출발일'].value_counts()).reset_index()\n",
    "        result.columns=['출발일', '데이터 수']\n",
    "        result.sort_values(by=['출발일'], inplace=True)\n",
    "        result['출발일'] = result['출발일'].dt.date\n",
    "        \n",
    "        fig, ax = plt.subplots()\n",
    "        fig.set_size_inches(40, 10)\n",
    "        plt.sca(ax)\n",
    "        plt.xticks(rotation=90, ha='right')\n",
    "        ax.set(title='출발일에 따른 데이터 수')\n",
    "        sns.barplot(data=result, x='출발일', y='데이터 수', ax=ax)\n",
    "        return\n",
    "    \n",
    "    print(find_date, '에는 최대 ', df[df['출발일'] == find_date]['날짜차이'].max(), '일 전까지의 데이터가 있습니다.')\n",
    "    fig, ax = plt.subplots()\n",
    "    fig.set_size_inches(25, 10)\n",
    "    \n",
    "    plt.sca(ax)\n",
    "    plt.xticks(rotation=30, ha='right')\n",
    "            \n",
    "    ax.set(title='데이터 수집시점에 따른 ' + find_date + ' 의 가격변동')\n",
    "    sns.barplot(data=base, x='날짜차이', y='최소가격', ax=ax)\n",
    "    "
   ]
  },
  {
   "cell_type": "code",
   "execution_count": 36,
   "metadata": {},
   "outputs": [
    {
     "name": "stdout",
     "output_type": "stream",
     "text": [
      "2018-05-03 에 해당하는 데이터가 없습니다.\n",
      "15 일 전까지의 데이터가 존재하는 출발일은 다음과 같습니다.\n"
     ]
    },
    {
     "data": {
      "image/png": "[encoded data removed]",
      "text/plain": [
       "<Figure size 2880x720 with 1 Axes>"
      ]
     },
     "metadata": {
      "needs_background": "light"
     },
     "output_type": "display_data"
    }
   ],
   "source": [
    "cost_variation(HS_data, '2018-05-03', 15)"
   ]
  },
  {
   "cell_type": "code",
   "execution_count": 34,
   "metadata": {},
   "outputs": [
    {
     "data": {
      "text/plain": [
       "347"
      ]
     },
     "execution_count": 34,
     "metadata": {},
     "output_type": "execute_result"
    }
   ],
   "source": [
    "len(HS_data['출발일'].unique())"
   ]
  },
  {
   "cell_type": "code",
   "execution_count": 35,
   "metadata": {},
   "outputs": [
    {
     "data": {
      "text/plain": [
       "172"
      ]
     },
     "execution_count": 35,
     "metadata": {},
     "output_type": "execute_result"
    }
   ],
   "source": [
    "len(HS_data[HS_data['날짜차이'] <= 70]['출발일'].unique())"
   ]
  },
  {
   "cell_type": "markdown",
   "metadata": {},
   "source": [
    "### Note\n",
    "* 시각화 완료.\n",
    "* 출발일과 가까운 시일 내에 수집한 데이터가 얼마 없다.\n",
    "* 데이터가 분석하기에 부족한 것은 아닌지?\n",
    "* 표를 구매하는데 ~일 전에 예약할 때 가격은 어떨 것인가? 추후 어떻게 변동할 것인가?\n",
    "* 출발일 직전에 보통 가격이 낮다(떨이표)"
   ]
  }
 ],
 "metadata": {
  "kernelspec": {
   "display_name": "Python 3",
   "language": "python",
   "name": "python3"
  },
  "language_info": {
   "codemirror_mode": {
    "name": "ipython",
    "version": 3
   },
   "file_extension": ".py",
   "mimetype": "text/x-python",
   "name": "python",
   "nbconvert_exporter": "python",
   "pygments_lexer": "ipython3",
   "version": "3.5.6"
  }
 },
 "nbformat": 4,
 "nbformat_minor": 2
}
