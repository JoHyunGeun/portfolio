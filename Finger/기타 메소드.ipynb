{
 "cells": [
  {
   "cell_type": "markdown",
   "metadata": {},
   "source": [
    "# Preprocessing"
   ]
  },
  {
   "cell_type": "code",
   "execution_count": null,
   "metadata": {},
   "outputs": [],
   "source": [
    "import os\n",
    "import cv2\n",
    "from PIL import Image\n",
    "import numpy as np\n",
    "import pandas as pd\n",
    "from PIL import Image"
   ]
  },
  {
   "cell_type": "markdown",
   "metadata": {},
   "source": [
    "### Method: 사진 폴더 이름 변경"
   ]
  },
  {
   "cell_type": "code",
   "execution_count": null,
   "metadata": {},
   "outputs": [],
   "source": [
    "def image_folder_rename(top_dir):\n",
    "    folders_name = os.listdir(top_dir)\n",
    "    num_label_dict = {}\n",
    "    folder_int_name, image_int_name = 0, 0\n",
    "    for i in range(len(folders_name)):\n",
    "        num_label_dict[folder_int_name] = folders_name[i]\n",
    "        old_class_dir = os.path.join(top_dir, folders_name[i])\n",
    "        new_class_dir = os.path.join(top_dir, str(folder_int_name))\n",
    "        os.rename(old_class_dir, new_class_dir)\n",
    "        images_name = os.listdir(new_class_dir)\n",
    "        for j in range(len(images_name)):\n",
    "            old_images_dir = os.path.join(new_class_dir, images_name[j])\n",
    "            new_images_dir = os.path.join(new_class_dir, str(image_int_name) + '.' + images_name[j].split('.')[-1])\n",
    "            os.rename(old_images_dir, new_images_dir)\n",
    "            image_int_name += 1\n",
    "        folder_int_name += 1\n",
    "    return num_label_dict"
   ]
  },
  {
   "cell_type": "code",
   "execution_count": null,
   "metadata": {},
   "outputs": [],
   "source": [
    "top_dir = '/Users/LG/Desktop/finger'\n",
    "num_label_dict = image_folder_rename(top_dir)"
   ]
  },
  {
   "cell_type": "markdown",
   "metadata": {},
   "source": [
    "### Method: 사진 크기 조절"
   ]
  },
  {
   "cell_type": "code",
   "execution_count": null,
   "metadata": {},
   "outputs": [],
   "source": [
    "def image_folder_todict(top_dir):\n",
    "    # folder's names are going to be classification labels of images.\n",
    "    folders_name = os.listdir(top_dir)\n",
    "    image_dict = {}\n",
    "    for i in range(len(folders_name)):\n",
    "        images_dir_list = []\n",
    "        class_dir = os.path.join(top_dir, folders_name[i])\n",
    "        images_name = os.listdir(class_dir)\n",
    "        for j in range(len(images_name)):\n",
    "            images_dir = os.path.join(class_dir, images_name[j])\n",
    "            images_dir_list.append(images_dir)\n",
    "        image_dict[folders_name[i]] = images_dir_list\n",
    "    return image_dict"
   ]
  },
  {
   "cell_type": "code",
   "execution_count": null,
   "metadata": {},
   "outputs": [],
   "source": [
    "def image_folder_todict(top_dir):\n",
    "    # folder's names are going to be classification labels of images.\n",
    "    folders_name = os.listdir(top_dir)\n",
    "    image_dict = {}\n",
    "    for i in range(len(folders_name)):\n",
    "        images_dir_list = []\n",
    "        class_dir = os.path.join(top_dir, folders_name[i])\n",
    "        images_name = os.listdir(class_dir)\n",
    "        for j in range(len(images_name)):\n",
    "            images_dir = os.path.join(class_dir, images_name[j])\n",
    "            images_dir_list.append(images_dir)\n",
    "        image_dict[folders_name[i]] = images_dir_list\n",
    "    return image_dict"
   ]
  },
  {
   "cell_type": "code",
   "execution_count": null,
   "metadata": {},
   "outputs": [],
   "source": [
    "# define image_dict and resize all pictures in folders that of different classes.\n",
    "top_dir = '/Users/LG/Desktop/finger'\n",
    "size_tuple = (224, 224)\n",
    "image_dict = image_folder_todict(top_dir)\n",
    "image_resize_all(image_dict, size_tuple)"
   ]
  },
  {
   "cell_type": "markdown",
   "metadata": {},
   "source": [
    "### Method: RGB변환 하기"
   ]
  },
  {
   "cell_type": "code",
   "execution_count": null,
   "metadata": {},
   "outputs": [],
   "source": [
    "def gen_train_set(image_dict):\n",
    "    train_images = []\n",
    "    train_labels = []\n",
    "    for classes in image_dict.keys():\n",
    "        for image_path in image_dict[classes]:\n",
    "            img = cv2.imread(image_path, cv2.IMREAD_COLOR)\n",
    "            train_images.append(img)\n",
    "            train_labels.append(classes)\n",
    "    return np.array(train_images), np.array(train_labels)"
   ]
  },
  {
   "cell_type": "code",
   "execution_count": null,
   "metadata": {},
   "outputs": [],
   "source": [
    "train_images, train_labels = gen_train_set(image_dict)\n",
    "train_images.shape, train_labels.shape"
   ]
  },
  {
   "cell_type": "code",
   "execution_count": null,
   "metadata": {},
   "outputs": [],
   "source": [
    "train_images = train_images.astype('float32')"
   ]
  }
 ],
 "metadata": {
  "kernelspec": {
   "display_name": "Python 3.6",
   "language": "python",
   "name": "python36"
  },
  "language_info": {
   "codemirror_mode": {
    "name": "ipython",
    "version": 3
   },
   "file_extension": ".py",
   "mimetype": "text/x-python",
   "name": "python",
   "nbconvert_exporter": "python",
   "pygments_lexer": "ipython3",
   "version": "3.6.8"
  }
 },
 "nbformat": 4,
 "nbformat_minor": 2
}
